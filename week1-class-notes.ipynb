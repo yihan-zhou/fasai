{
 "cells": [
  {
   "cell_type": "code",
   "execution_count": 1,
   "id": "5394492b",
   "metadata": {
    "_cell_guid": "b1076dfc-b9ad-4769-8c92-a6c4dae69d19",
    "_uuid": "8f2839f25d086af736a60e9eeb907d3b93b6e0e5",
    "execution": {
     "iopub.execute_input": "2023-11-10T00:29:56.989892Z",
     "iopub.status.busy": "2023-11-10T00:29:56.989398Z",
     "iopub.status.idle": "2023-11-10T00:29:57.398563Z",
     "shell.execute_reply": "2023-11-10T00:29:57.397220Z"
    },
    "papermill": {
     "duration": 0.416437,
     "end_time": "2023-11-10T00:29:57.401375",
     "exception": false,
     "start_time": "2023-11-10T00:29:56.984938",
     "status": "completed"
    },
    "tags": []
   },
   "outputs": [],
   "source": [
    "# This Python 3 environment comes with many helpful analytics libraries installed\n",
    "# It is defined by the kaggle/python Docker image: https://github.com/kaggle/docker-python\n",
    "# For example, here's several helpful packages to load\n",
    "\n",
    "import numpy as np # linear algebra\n",
    "import pandas as pd # data processing, CSV file I/O (e.g. pd.read_csv)\n",
    "\n",
    "# Input data files are available in the read-only \"../input/\" directory\n",
    "# For example, running this (by clicking run or pressing Shift+Enter) will list all files under the input directory\n",
    "\n",
    "import os\n",
    "for dirname, _, filenames in os.walk('/kaggle/input'):\n",
    "    for filename in filenames:\n",
    "        print(os.path.join(dirname, filename))\n",
    "\n",
    "# You can write up to 20GB to the current directory (/kaggle/working/) that gets preserved as output when you create a version using \"Save & Run All\" \n",
    "# You can also write temporary files to /kaggle/temp/, but they won't be saved outside of the current session"
   ]
  },
  {
   "cell_type": "code",
   "execution_count": 2,
   "id": "1c333a25",
   "metadata": {
    "execution": {
     "iopub.execute_input": "2023-11-10T00:29:57.407420Z",
     "iopub.status.busy": "2023-11-10T00:29:57.406921Z",
     "iopub.status.idle": "2023-11-10T00:30:13.690416Z",
     "shell.execute_reply": "2023-11-10T00:30:13.688563Z"
    },
    "papermill": {
     "duration": 16.290277,
     "end_time": "2023-11-10T00:30:13.694013",
     "exception": false,
     "start_time": "2023-11-10T00:29:57.403736",
     "status": "completed"
    },
    "tags": []
   },
   "outputs": [],
   "source": [
    "import os\n",
    "iskaggle = os.environ.get('KAGGLE_KERNEL_RUN_TYPE', '')\n",
    "\n",
    "if iskaggle:\n",
    "    !pip install -Uqq fastai"
   ]
  },
  {
   "cell_type": "code",
   "execution_count": null,
   "id": "e0a28031",
   "metadata": {
    "papermill": {
     "duration": 0.00189,
     "end_time": "2023-11-10T00:30:13.698640",
     "exception": false,
     "start_time": "2023-11-10T00:30:13.696750",
     "status": "completed"
    },
    "tags": []
   },
   "outputs": [],
   "source": []
  }
 ],
 "metadata": {
  "kernelspec": {
   "display_name": "Python 3",
   "language": "python",
   "name": "python3"
  },
  "language_info": {
   "codemirror_mode": {
    "name": "ipython",
    "version": 3
   },
   "file_extension": ".py",
   "mimetype": "text/x-python",
   "name": "python",
   "nbconvert_exporter": "python",
   "pygments_lexer": "ipython3",
   "version": "3.10.12"
  },
  "papermill": {
   "default_parameters": {},
   "duration": 20.644063,
   "end_time": "2023-11-10T00:30:14.223108",
   "environment_variables": {},
   "exception": null,
   "input_path": "__notebook__.ipynb",
   "output_path": "__notebook__.ipynb",
   "parameters": {},
   "start_time": "2023-11-10T00:29:53.579045",
   "version": "2.4.0"
  }
 },
 "nbformat": 4,
 "nbformat_minor": 5
}
